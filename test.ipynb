{
 "cells": [
  {
   "cell_type": "code",
   "execution_count": 5,
   "metadata": {},
   "outputs": [],
   "source": [
    "import torch\n",
    "from tinygrad.tensor import Tensor\n",
    "import numpy as np"
   ]
  },
  {
   "cell_type": "code",
   "execution_count": 55,
   "metadata": {},
   "outputs": [],
   "source": [
    "from core.model import get_rotary_sin_cos, rotary_apply, GPTConfig, apply_rotary_mask\n",
    "\n",
    "batch_size, n_head, seq_length, head_size, rotary_pct = 4, 8, 1024, 128, 0.25\n",
    "sin, cos = get_rotary_sin_cos(seq_length, GPTConfig(n_embd=n_head*head_size, n_head=n_head, rotary_pct=rotary_pct))\n",
    "\n",
    "x = torch.randn(batch_size, n_head, seq_length, head_size)\n",
    "\n",
    "\n",
    "pos_mask = torch.arange(seq_length, dtype=torch.long).unsqueeze(0) # shape (1, t)\n",
    "sin, cos = apply_rotary_mask(pos_mask, sin, cos) \n",
    "\n",
    "# Pass the input through the rotary apply\n",
    "rotary_ndims = int(head_size * rotary_pct)\n",
    "output = rotary_apply(x, sin, cos, rotary_ndims)"
   ]
  },
  {
   "cell_type": "code",
   "execution_count": 53,
   "metadata": {},
   "outputs": [
    {
     "data": {
      "text/plain": [
       "torch.Size([1, 1, 1024, 32])"
      ]
     },
     "execution_count": 53,
     "metadata": {},
     "output_type": "execute_result"
    }
   ],
   "source": [
    "sin.shape"
   ]
  },
  {
   "cell_type": "code",
   "execution_count": 52,
   "metadata": {},
   "outputs": [
    {
     "data": {
      "text/plain": [
       "torch.Size([4, 8, 1024, 128])"
      ]
     },
     "execution_count": 52,
     "metadata": {},
     "output_type": "execute_result"
    }
   ],
   "source": [
    "x.shape"
   ]
  }
 ],
 "metadata": {
  "kernelspec": {
   "display_name": "Python 3",
   "language": "python",
   "name": "python3"
  },
  "language_info": {
   "codemirror_mode": {
    "name": "ipython",
    "version": 3
   },
   "file_extension": ".py",
   "mimetype": "text/x-python",
   "name": "python",
   "nbconvert_exporter": "python",
   "pygments_lexer": "ipython3",
   "version": "3.10.6"
  },
  "orig_nbformat": 4
 },
 "nbformat": 4,
 "nbformat_minor": 2
}
