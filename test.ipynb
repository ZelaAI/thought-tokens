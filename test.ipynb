{
 "cells": [
  {
   "cell_type": "code",
   "execution_count": 5,
   "metadata": {},
   "outputs": [],
   "source": [
    "import torch\n",
    "from tinygrad.tensor import Tensor\n",
    "import numpy as np"
   ]
  },
  {
   "cell_type": "code",
   "execution_count": 59,
   "metadata": {},
   "outputs": [
    {
     "data": {
      "text/plain": [
       "(tensor([9, 8, 7, 6, 5, 4, 3, 2, 1]),\n",
       " tensor([ 0.6209,  0.0849,  0.2189,  0.7732,  0.0104, -1.2071,  0.0871,  1.9083,\n",
       "          0.7875,  1.2467]),\n",
       " tensor([ 1.2467,  0.7875,  1.9083,  0.0871, -1.2071,  0.0104,  0.7732,  0.2189,\n",
       "          0.0849]))"
      ]
     },
     "execution_count": 59,
     "metadata": {},
     "output_type": "execute_result"
    }
   ],
   "source": [
    "indexes = torch.arange(9, 0, -1)\n",
    "table = torch.randn(10)\n",
    "\n",
    "result = table[indexes]\n",
    "\n",
    "indexes, table, result"
   ]
  },
  {
   "cell_type": "code",
   "execution_count": 60,
   "metadata": {},
   "outputs": [
    {
     "ename": "TypeError",
     "evalue": "slice indices must be integers or None or have an __index__ method",
     "output_type": "error",
     "traceback": [
      "\u001b[0;31m---------------------------------------------------------------------------\u001b[0m",
      "\u001b[0;31mTypeError\u001b[0m                                 Traceback (most recent call last)",
      "\u001b[1;32m/Users/alex/projects/thought-tokens/test.ipynb Cell 3\u001b[0m in \u001b[0;36m4\n\u001b[1;32m      <a href='vscode-notebook-cell:/Users/alex/projects/thought-tokens/test.ipynb#X15sZmlsZQ%3D%3D?line=0'>1</a>\u001b[0m indexes \u001b[39m=\u001b[39m Tensor\u001b[39m.\u001b[39marange(start\u001b[39m=\u001b[39m\u001b[39m9\u001b[39m, stop\u001b[39m=\u001b[39m\u001b[39m0\u001b[39m, step\u001b[39m=\u001b[39m\u001b[39m-\u001b[39m\u001b[39m1\u001b[39m)\n\u001b[1;32m      <a href='vscode-notebook-cell:/Users/alex/projects/thought-tokens/test.ipynb#X15sZmlsZQ%3D%3D?line=1'>2</a>\u001b[0m table \u001b[39m=\u001b[39m Tensor\u001b[39m.\u001b[39mrand(\u001b[39m10\u001b[39m)\n\u001b[0;32m----> <a href='vscode-notebook-cell:/Users/alex/projects/thought-tokens/test.ipynb#X15sZmlsZQ%3D%3D?line=3'>4</a>\u001b[0m result \u001b[39m=\u001b[39m table[indexes]\n",
      "File \u001b[0;32m~/projects/tinygrad/tinygrad/tensor.py:283\u001b[0m, in \u001b[0;36mTensor.__getitem__\u001b[0;34m(self, val)\u001b[0m\n\u001b[1;32m    281\u001b[0m valid_slices \u001b[39m=\u001b[39m \u001b[39mlist\u001b[39m(filterfalse(\u001b[39mlambda\u001b[39;00m x: x \u001b[39mis\u001b[39;00m \u001b[39mNone\u001b[39;00m, orig_slices))\n\u001b[1;32m    282\u001b[0m valid_slices \u001b[39m=\u001b[39m [v \u001b[39mif\u001b[39;00m \u001b[39misinstance\u001b[39m(v, \u001b[39mslice\u001b[39m) \u001b[39melse\u001b[39;00m \u001b[39mslice\u001b[39m(y \u001b[39m:=\u001b[39m normalize_int(v, i, dim_sz), y\u001b[39m+\u001b[39m\u001b[39m1\u001b[39m) \u001b[39mfor\u001b[39;00m i, (v, dim_sz) \u001b[39min\u001b[39;00m \u001b[39menumerate\u001b[39m(\u001b[39mzip\u001b[39m(valid_slices, \u001b[39mself\u001b[39m\u001b[39m.\u001b[39mshape))]\n\u001b[0;32m--> 283\u001b[0m start, stop, strides \u001b[39m=\u001b[39m \u001b[39mzip\u001b[39m(\u001b[39m*\u001b[39my) \u001b[39mif\u001b[39;00m (y \u001b[39m:=\u001b[39m [s\u001b[39m.\u001b[39mindices(dim_sz) \u001b[39mfor\u001b[39;00m s, dim_sz \u001b[39min\u001b[39;00m \u001b[39mzip\u001b[39m(valid_slices, \u001b[39mself\u001b[39m\u001b[39m.\u001b[39mshape)]) \u001b[39melse\u001b[39;00m ((), (), ())\n\u001b[1;32m    284\u001b[0m new_slice \u001b[39m=\u001b[39m \u001b[39mtuple\u001b[39m((s, e)  \u001b[39mif\u001b[39;00m st \u001b[39m>\u001b[39m \u001b[39m0\u001b[39m \u001b[39melse\u001b[39;00m (e\u001b[39m+\u001b[39m\u001b[39m1\u001b[39m, s\u001b[39m+\u001b[39m\u001b[39m1\u001b[39m) \u001b[39mfor\u001b[39;00m s, e, st \u001b[39min\u001b[39;00m \u001b[39mzip\u001b[39m(start, stop, strides))\n\u001b[1;32m    285\u001b[0m new_shape \u001b[39m=\u001b[39m \u001b[39mtuple\u001b[39m(e \u001b[39m-\u001b[39m s \u001b[39mfor\u001b[39;00m s, e \u001b[39min\u001b[39;00m new_slice)\n",
      "File \u001b[0;32m~/projects/tinygrad/tinygrad/tensor.py:283\u001b[0m, in \u001b[0;36m<listcomp>\u001b[0;34m(.0)\u001b[0m\n\u001b[1;32m    281\u001b[0m valid_slices \u001b[39m=\u001b[39m \u001b[39mlist\u001b[39m(filterfalse(\u001b[39mlambda\u001b[39;00m x: x \u001b[39mis\u001b[39;00m \u001b[39mNone\u001b[39;00m, orig_slices))\n\u001b[1;32m    282\u001b[0m valid_slices \u001b[39m=\u001b[39m [v \u001b[39mif\u001b[39;00m \u001b[39misinstance\u001b[39m(v, \u001b[39mslice\u001b[39m) \u001b[39melse\u001b[39;00m \u001b[39mslice\u001b[39m(y \u001b[39m:=\u001b[39m normalize_int(v, i, dim_sz), y\u001b[39m+\u001b[39m\u001b[39m1\u001b[39m) \u001b[39mfor\u001b[39;00m i, (v, dim_sz) \u001b[39min\u001b[39;00m \u001b[39menumerate\u001b[39m(\u001b[39mzip\u001b[39m(valid_slices, \u001b[39mself\u001b[39m\u001b[39m.\u001b[39mshape))]\n\u001b[0;32m--> 283\u001b[0m start, stop, strides \u001b[39m=\u001b[39m \u001b[39mzip\u001b[39m(\u001b[39m*\u001b[39my) \u001b[39mif\u001b[39;00m (y \u001b[39m:=\u001b[39m [s\u001b[39m.\u001b[39;49mindices(dim_sz) \u001b[39mfor\u001b[39;00m s, dim_sz \u001b[39min\u001b[39;00m \u001b[39mzip\u001b[39m(valid_slices, \u001b[39mself\u001b[39m\u001b[39m.\u001b[39mshape)]) \u001b[39melse\u001b[39;00m ((), (), ())\n\u001b[1;32m    284\u001b[0m new_slice \u001b[39m=\u001b[39m \u001b[39mtuple\u001b[39m((s, e)  \u001b[39mif\u001b[39;00m st \u001b[39m>\u001b[39m \u001b[39m0\u001b[39m \u001b[39melse\u001b[39;00m (e\u001b[39m+\u001b[39m\u001b[39m1\u001b[39m, s\u001b[39m+\u001b[39m\u001b[39m1\u001b[39m) \u001b[39mfor\u001b[39;00m s, e, st \u001b[39min\u001b[39;00m \u001b[39mzip\u001b[39m(start, stop, strides))\n\u001b[1;32m    285\u001b[0m new_shape \u001b[39m=\u001b[39m \u001b[39mtuple\u001b[39m(e \u001b[39m-\u001b[39m s \u001b[39mfor\u001b[39;00m s, e \u001b[39min\u001b[39;00m new_slice)\n",
      "\u001b[0;31mTypeError\u001b[0m: slice indices must be integers or None or have an __index__ method"
     ]
    }
   ],
   "source": [
    "indexes = Tensor.arange(start=9, stop=0, step=-1)\n",
    "table = Tensor.rand(10)\n",
    "\n",
    "result = table[indexes]\n"
   ]
  }
 ],
 "metadata": {
  "kernelspec": {
   "display_name": "Python 3",
   "language": "python",
   "name": "python3"
  },
  "language_info": {
   "codemirror_mode": {
    "name": "ipython",
    "version": 3
   },
   "file_extension": ".py",
   "mimetype": "text/x-python",
   "name": "python",
   "nbconvert_exporter": "python",
   "pygments_lexer": "ipython3",
   "version": "3.10.6"
  },
  "orig_nbformat": 4
 },
 "nbformat": 4,
 "nbformat_minor": 2
}
