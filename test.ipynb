{
 "cells": [
  {
   "cell_type": "code",
   "execution_count": 1,
   "metadata": {},
   "outputs": [],
   "source": [
    "from tinygrad.tensor import Tensor\n",
    "import numpy as np\n",
    "from core.model import GPTConfig\n",
    "from core.model_tiny import GPT\n",
    "from tinygrad.state import load_state_dict\n",
    "from tinygrad.helpers import dtypes"
   ]
  },
  {
   "cell_type": "code",
   "execution_count": 2,
   "metadata": {},
   "outputs": [
    {
     "name": "stderr",
     "output_type": "stream",
     "text": [
      "ram used:  0.31 GB, cos                                               : 100%|██████████| 78/78 [00:00<00:00, 782.68it/s]"
     ]
    },
    {
     "name": "stdout",
     "output_type": "stream",
     "text": [
      "loaded weights in 122.55 ms, 0.31 GB loaded at 2.50 GB/s\n"
     ]
    },
    {
     "name": "stderr",
     "output_type": "stream",
     "text": [
      "\n"
     ]
    }
   ],
   "source": [
    "config = GPTConfig.from_pretrained(\"EleutherAI/pythia-70m\")\n",
    "\n",
    "tiny_model = GPT(config)\n",
    "tiny_state_dict = GPT.state_dict_from_huggingface(\"EleutherAI/pythia-70m\")\n",
    "load_state_dict(tiny_model, tiny_state_dict, strict=False)"
   ]
  },
  {
   "cell_type": "code",
   "execution_count": 12,
   "metadata": {},
   "outputs": [],
   "source": [
    "from transformers import GPTNeoXTokenizerFast\n",
    "tokenizer = GPTNeoXTokenizerFast.from_pretrained(\"EleutherAI/pythia-70m\")\n",
    "\n",
    "ids = Tensor([tokenizer.encode(\"for i in range(9):\")], dtype=dtypes.int32)\n",
    "\n",
    "output = tiny_model(ids)"
   ]
  },
  {
   "cell_type": "code",
   "execution_count": 13,
   "metadata": {},
   "outputs": [
    {
     "name": "stdout",
     "output_type": "stream",
     "text": [
      "'for i in range(9):\\n\\nI have a problem with the following code:\\ndef test_test_test(self):\\n    # test_test_test_test_test_test_test_test_test_test_test_test_test_test_test_test'\n"
     ]
    }
   ],
   "source": [
    "for i in range(55):\n",
    "    output = tiny_model(ids)\n",
    "    output_token = Tensor([[output.softmax(axis=-1)[0,-1].numpy().argmax()]], dtype=dtypes.int32)\n",
    "    \n",
    "    ids = ids.cat(output_token, dim=1)\n",
    "    print(tokenizer.decode(ids.numpy()[0]).__repr__(), end=\"\\r\")\n",
    "    \n",
    "print()\n"
   ]
  }
 ],
 "metadata": {
  "kernelspec": {
   "display_name": "Python 3",
   "language": "python",
   "name": "python3"
  },
  "language_info": {
   "codemirror_mode": {
    "name": "ipython",
    "version": 3
   },
   "file_extension": ".py",
   "mimetype": "text/x-python",
   "name": "python",
   "nbconvert_exporter": "python",
   "pygments_lexer": "ipython3",
   "version": "3.10.6"
  },
  "orig_nbformat": 4
 },
 "nbformat": 4,
 "nbformat_minor": 2
}
