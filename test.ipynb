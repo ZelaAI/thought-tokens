{
 "cells": [
  {
   "cell_type": "code",
   "execution_count": 5,
   "metadata": {},
   "outputs": [],
   "source": [
    "import torch\n",
    "from tinygrad.tensor import Tensor\n",
    "import numpy as np"
   ]
  },
  {
   "cell_type": "code",
   "execution_count": 11,
   "metadata": {},
   "outputs": [
    {
     "data": {
      "text/plain": [
       "(tensor([[[-1.2876e-01,  1.4437e+00, -8.0022e-02,  ..., -5.9089e-01,\n",
       "            8.2582e-01,  4.0257e-01],\n",
       "          [-1.3627e+00,  9.8362e-01,  3.8683e-01,  ..., -3.1865e-01,\n",
       "           -7.2376e-01, -2.9377e-02],\n",
       "          [-1.0203e+00, -6.9179e-01,  4.4613e-01,  ...,  1.9663e+00,\n",
       "            1.6976e-01, -6.1604e-02],\n",
       "          ...,\n",
       "          [-5.0414e-01,  8.4155e-01,  2.4091e-01,  ..., -2.1349e+00,\n",
       "           -1.5792e+00, -2.5254e-01],\n",
       "          [-2.6916e+00, -8.6574e-01, -1.7993e+00,  ..., -2.8194e-01,\n",
       "           -2.2445e+00,  1.4529e-01],\n",
       "          [ 1.7729e+00,  7.0735e-01, -2.0528e-01,  ..., -4.8941e-01,\n",
       "            6.3821e-01,  1.1007e+00]],\n",
       " \n",
       "         [[-8.0068e-01,  5.1607e-01, -2.3553e-01,  ...,  1.0738e+00,\n",
       "           -1.1591e+00,  1.4776e+00],\n",
       "          [-2.1049e-01,  1.1640e+00,  1.1080e+00,  ...,  2.2220e-01,\n",
       "            1.4285e+00,  3.2209e-01],\n",
       "          [-1.0921e+00,  1.2488e+00,  2.1162e+00,  ...,  5.6816e-02,\n",
       "            9.6211e-01,  1.0159e+00],\n",
       "          ...,\n",
       "          [ 1.7087e+00, -4.1299e-01, -5.0576e-01,  ...,  9.1458e-01,\n",
       "           -3.1483e-01,  3.1689e-01],\n",
       "          [-1.0061e+00,  4.6398e-01, -1.1720e+00,  ..., -1.3789e+00,\n",
       "           -5.7430e-01,  8.8720e-01],\n",
       "          [-4.7630e-01,  6.4884e-01,  1.6542e+00,  ..., -3.4207e-01,\n",
       "           -6.4426e-01,  1.4488e+00]],\n",
       " \n",
       "         [[-2.6557e+00, -3.6216e-01,  5.9736e-02,  ...,  9.0264e-02,\n",
       "            3.6089e-01,  1.0337e-01],\n",
       "          [-1.6088e+00,  6.6699e-01, -1.0872e+00,  ..., -9.3280e-02,\n",
       "            1.2062e+00, -2.8852e-01],\n",
       "          [-1.3205e+00,  1.4343e+00,  3.9827e-01,  ...,  3.1639e-01,\n",
       "            2.1886e-01,  8.2182e-01],\n",
       "          ...,\n",
       "          [ 7.3971e-01, -4.6306e-01, -1.9456e-01,  ...,  2.1967e+00,\n",
       "            1.2593e-01,  9.7031e-02],\n",
       "          [-2.6106e-01, -1.4532e+00, -7.7037e-01,  ..., -2.7431e-02,\n",
       "           -2.4728e-01,  6.6937e-01],\n",
       "          [-8.2662e-01,  8.6427e-01, -8.5470e-01,  ...,  1.5586e+00,\n",
       "            1.4631e+00, -1.0478e+00]],\n",
       " \n",
       "         ...,\n",
       " \n",
       "         [[ 1.3430e+00, -1.5691e-01, -4.5479e-01,  ..., -1.4287e-01,\n",
       "            8.2988e-01,  1.3318e+00],\n",
       "          [-3.5170e-01, -3.8715e-01,  5.4211e-01,  ...,  1.3087e+00,\n",
       "           -1.8282e+00, -1.6057e+00],\n",
       "          [ 1.1499e+00,  6.3777e-01, -8.5745e-01,  ..., -4.8408e-01,\n",
       "            1.7047e+00,  4.6425e-01],\n",
       "          ...,\n",
       "          [ 3.6423e-01, -4.8191e-01, -2.1574e+00,  ...,  3.7972e-01,\n",
       "           -1.7549e+00, -9.5976e-01],\n",
       "          [ 1.0759e-01,  3.8672e-01,  8.8158e-01,  ..., -1.9167e-02,\n",
       "           -2.1094e-01,  6.2060e-01],\n",
       "          [ 6.0211e-01, -1.5656e+00,  1.9669e-01,  ..., -1.7556e+00,\n",
       "           -1.7825e+00,  4.1986e-01]],\n",
       " \n",
       "         [[ 3.7218e-01, -7.9563e-01, -3.9922e-02,  ...,  1.1121e+00,\n",
       "            2.7621e-01, -5.9508e-01],\n",
       "          [ 8.0358e-01, -1.7926e+00, -1.9367e-02,  ...,  2.6068e+00,\n",
       "           -8.4649e-01, -7.0717e-01],\n",
       "          [ 2.0661e-01,  8.6143e-02,  1.8541e+00,  ...,  1.4467e+00,\n",
       "           -2.7442e-01, -1.2103e-01],\n",
       "          ...,\n",
       "          [-4.4212e-01, -1.1176e-01,  5.3531e-02,  ..., -5.0824e-02,\n",
       "           -1.8908e+00,  3.1955e-01],\n",
       "          [-1.2636e+00, -3.5461e-01,  2.3625e-01,  ..., -1.4868e+00,\n",
       "            1.3362e+00,  2.6110e-01],\n",
       "          [ 1.5709e+00,  1.1192e+00,  1.5475e+00,  ...,  1.0252e+00,\n",
       "            4.6386e-01, -8.1858e-01]],\n",
       " \n",
       "         [[ 8.8308e-01,  7.6188e-01,  3.3403e-01,  ...,  8.1290e-01,\n",
       "            1.0015e+00, -1.2859e+00],\n",
       "          [ 1.2166e+00,  2.3116e-01, -1.5909e+00,  ..., -6.4334e-01,\n",
       "            4.0875e-01,  4.6154e-01],\n",
       "          [ 2.3748e+00,  1.8014e-01, -3.1000e+00,  ..., -1.5626e+00,\n",
       "            9.9646e-02,  8.4864e-01],\n",
       "          ...,\n",
       "          [-1.1639e-01,  1.1324e+00,  2.5561e-01,  ...,  1.0836e+00,\n",
       "           -9.8658e-01, -6.5077e-01],\n",
       "          [ 8.2890e-01,  1.1187e+00,  1.7162e+00,  ..., -1.3196e+00,\n",
       "           -1.8918e-03, -3.9909e-01],\n",
       "          [-1.5720e+00, -5.0581e-01,  9.0766e-01,  ..., -1.7779e+00,\n",
       "            1.9056e-01, -9.4040e-01]]]),\n",
       " <Tensor <LB (32, 32, 32) dtypes.float op=BinaryOps.ADD st=ShapeTracker(shape=(32, 32, 32), views=[View((32, 32, 32), (1024, 32, 1), 0, None)])> on METAL with grad None>)"
      ]
     },
     "execution_count": 11,
     "metadata": {},
     "output_type": "execute_result"
    }
   ],
   "source": [
    "x = torch.randn(32, 32, 32)\n",
    "x_tiny = Tensor(x.numpy()) + 1\n",
    "\n",
    "x, x_tiny"
   ]
  },
  {
   "cell_type": "code",
   "execution_count": 14,
   "metadata": {},
   "outputs": [
    {
     "ename": "AssertionError",
     "evalue": "\nNot equal to tolerance rtol=0.005, atol=0.005\n\nMismatched elements: 32768 / 32768 (100%)\nMax absolute difference: 1.0000002\nMax relative difference: 43292.355\n x: array([[[ 0.871236,  2.443745,  0.919978, ...,  0.409112,  1.825815,\n          1.40257 ],\n        [-0.362683,  1.983617,  1.386833, ...,  0.68135 ,  0.276235,...\n y: array([[[-1.287638e-01,  1.443745e+00, -8.002157e-02, ...,\n         -5.908884e-01,  8.258153e-01,  4.025702e-01],\n        [-1.362683e+00,  9.836169e-01,  3.868328e-01, ...,...",
     "output_type": "error",
     "traceback": [
      "\u001b[0;31m---------------------------------------------------------------------------\u001b[0m",
      "\u001b[0;31mAssertionError\u001b[0m                            Traceback (most recent call last)",
      "\u001b[1;32m/Users/alex/projects/thought-tokens/test.ipynb Cell 3\u001b[0m in \u001b[0;36m3\n\u001b[1;32m      <a href='vscode-notebook-cell:/Users/alex/projects/thought-tokens/test.ipynb#W2sZmlsZQ%3D%3D?line=0'>1</a>\u001b[0m output \u001b[39m=\u001b[39m x\u001b[39m.\u001b[39mdetach()\u001b[39m.\u001b[39mnumpy()\n\u001b[1;32m      <a href='vscode-notebook-cell:/Users/alex/projects/thought-tokens/test.ipynb#W2sZmlsZQ%3D%3D?line=1'>2</a>\u001b[0m output_tiny \u001b[39m=\u001b[39m x_tiny\u001b[39m.\u001b[39mnumpy()\n\u001b[0;32m----> <a href='vscode-notebook-cell:/Users/alex/projects/thought-tokens/test.ipynb#W2sZmlsZQ%3D%3D?line=2'>3</a>\u001b[0m np\u001b[39m.\u001b[39;49mtesting\u001b[39m.\u001b[39;49massert_allclose(output_tiny, output, atol\u001b[39m=\u001b[39;49m\u001b[39m5e-3\u001b[39;49m, rtol\u001b[39m=\u001b[39;49m\u001b[39m5e-3\u001b[39;49m)\n",
      "    \u001b[0;31m[... skipping hidden 1 frame]\u001b[0m\n",
      "File \u001b[0;32m~/.pyenv/versions/3.10.6/lib/python3.10/site-packages/numpy/testing/_private/utils.py:844\u001b[0m, in \u001b[0;36massert_array_compare\u001b[0;34m(comparison, x, y, err_msg, verbose, header, precision, equal_nan, equal_inf)\u001b[0m\n\u001b[1;32m    840\u001b[0m         err_msg \u001b[39m+\u001b[39m\u001b[39m=\u001b[39m \u001b[39m'\u001b[39m\u001b[39m\\n\u001b[39;00m\u001b[39m'\u001b[39m \u001b[39m+\u001b[39m \u001b[39m'\u001b[39m\u001b[39m\\n\u001b[39;00m\u001b[39m'\u001b[39m\u001b[39m.\u001b[39mjoin(remarks)\n\u001b[1;32m    841\u001b[0m         msg \u001b[39m=\u001b[39m build_err_msg([ox, oy], err_msg,\n\u001b[1;32m    842\u001b[0m                             verbose\u001b[39m=\u001b[39mverbose, header\u001b[39m=\u001b[39mheader,\n\u001b[1;32m    843\u001b[0m                             names\u001b[39m=\u001b[39m(\u001b[39m'\u001b[39m\u001b[39mx\u001b[39m\u001b[39m'\u001b[39m, \u001b[39m'\u001b[39m\u001b[39my\u001b[39m\u001b[39m'\u001b[39m), precision\u001b[39m=\u001b[39mprecision)\n\u001b[0;32m--> 844\u001b[0m         \u001b[39mraise\u001b[39;00m \u001b[39mAssertionError\u001b[39;00m(msg)\n\u001b[1;32m    845\u001b[0m \u001b[39mexcept\u001b[39;00m \u001b[39mValueError\u001b[39;00m:\n\u001b[1;32m    846\u001b[0m     \u001b[39mimport\u001b[39;00m \u001b[39mtraceback\u001b[39;00m\n",
      "\u001b[0;31mAssertionError\u001b[0m: \nNot equal to tolerance rtol=0.005, atol=0.005\n\nMismatched elements: 32768 / 32768 (100%)\nMax absolute difference: 1.0000002\nMax relative difference: 43292.355\n x: array([[[ 0.871236,  2.443745,  0.919978, ...,  0.409112,  1.825815,\n          1.40257 ],\n        [-0.362683,  1.983617,  1.386833, ...,  0.68135 ,  0.276235,...\n y: array([[[-1.287638e-01,  1.443745e+00, -8.002157e-02, ...,\n         -5.908884e-01,  8.258153e-01,  4.025702e-01],\n        [-1.362683e+00,  9.836169e-01,  3.868328e-01, ...,..."
     ]
    }
   ],
   "source": [
    "\n",
    "output = x.detach().numpy()\n",
    "output_tiny = x_tiny.numpy()\n",
    "np.testing.assert_allclose(output_tiny, output, atol=5e-3, rtol=5e-3)"
   ]
  }
 ],
 "metadata": {
  "kernelspec": {
   "display_name": "Python 3",
   "language": "python",
   "name": "python3"
  },
  "language_info": {
   "codemirror_mode": {
    "name": "ipython",
    "version": 3
   },
   "file_extension": ".py",
   "mimetype": "text/x-python",
   "name": "python",
   "nbconvert_exporter": "python",
   "pygments_lexer": "ipython3",
   "version": "3.10.6"
  },
  "orig_nbformat": 4
 },
 "nbformat": 4,
 "nbformat_minor": 2
}
