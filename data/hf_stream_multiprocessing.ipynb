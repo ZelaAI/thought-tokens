{
 "cells": [
  {
   "cell_type": "code",
   "execution_count": null,
   "metadata": {},
   "outputs": [],
   "source": [
    "from stream_dataset import HuggingfaceStreamDataset, TokenizedDatasetWrapper, collate_fn\n",
    "\n",
    "stream_dataset = HuggingfaceStreamDataset('ZelaAI/minipile_test')\n"
   ]
  },
  {
   "cell_type": "code",
   "execution_count": null,
   "metadata": {},
   "outputs": [],
   "source": [
    "for item in stream_dataset:\n",
    "    item['text']\n"
   ]
  },
  {
   "cell_type": "code",
   "execution_count": null,
   "metadata": {},
   "outputs": [],
   "source": [
    "import time\n",
    "\n",
    "for item in TokenizedDatasetWrapper(HuggingfaceStreamDataset(\"ZelaAI/minipile_test\")):\n",
    "    item"
   ]
  },
  {
   "cell_type": "code",
   "execution_count": null,
   "metadata": {},
   "outputs": [],
   "source": [
    "from stream_dataset import HuggingfaceStreamDataset, TokenizedDatasetWrapper, collate_fn\n",
    "\n",
    "from torch.utils.data import DataLoader\n",
    "dataset = TokenizedDatasetWrapper(HuggingfaceStreamDataset(\"ZelaAI/minipile_test\", skip_to=5000))\n",
    "\n",
    "\n",
    "dataloader = DataLoader(dataset, batch_size=2, num_workers=2, collate_fn=collate_fn)"
   ]
  },
  {
   "cell_type": "code",
   "execution_count": null,
   "metadata": {},
   "outputs": [],
   "source": [
    "for item in dataloader:\n",
    "    item"
   ]
  },
  {
   "cell_type": "code",
   "execution_count": null,
   "metadata": {},
   "outputs": [],
   "source": [
    "# Goal is to allow for multiprocessing so we can dynamically load and process data easily as it comes in rather than loading all at once."
   ]
  },
  {
   "cell_type": "code",
   "execution_count": null,
   "metadata": {},
   "outputs": [],
   "source": [
    "# class SequenceStreamDataset(IterableDataset):\n",
    "#     def __init__(self, streaming_dataset, skip_first_n=0, insert_dense_tokens=0, tokenizer=None):\n",
    "#         print(f'Dataset skipping first {skip_first_n} items', flush=True)\n",
    "#         self.streaming_dataset = streaming_dataset.skip(skip_first_n)\n",
    "#         self.insert_dense_tokens = insert_dense_tokens\n",
    "#         self.tokenizer = tokenizer\n",
    "\n",
    "#     def __iter__(self):\n",
    "#         for item in self.streaming_dataset:\n",
    "#             sequences = []\n",
    "#             for seq in item['packed_sequences']:\n",
    "#                 context_ids = seq['context_ids']\n",
    "#                 completion_ids = seq['completion_ids']\n",
    "                \n",
    "#                 if self.insert_dense_tokens > 0:\n",
    "#                     num_to_insert = random.randint(1, self.insert_dense_tokens)\n",
    "\n",
    "#                     # enforce never more than 1/3 of the sequence is dense tokens\n",
    "#                     num_to_insert = min(num_to_insert, len(completion_ids)//3)\n",
    "                    \n",
    "#                     # shorten completion_ids to make room for dense tokens\n",
    "#                     completion_ids = completion_ids[:-num_to_insert]\n",
    "\n",
    "#                     # perform insertions\n",
    "#                     for i in range(num_to_insert):\n",
    "#                         index = random.randint(0, len(completion_ids))\n",
    "#                         completion_ids.insert(index, DENSE_TOKEN_ID)\n",
    "                \n",
    "#                 sequences.append(Sequence(\n",
    "#                     0,\n",
    "#                     torch.tensor(context_ids, dtype=torch.long),\n",
    "#                     0,\n",
    "#                     [torch.tensor(completion_ids, dtype=torch.long)],\n",
    "#                 ))\n",
    "#             yield sequences"
   ]
  }
 ],
 "metadata": {
  "kernelspec": {
   "display_name": "Python 3",
   "language": "python",
   "name": "python3"
  },
  "language_info": {
   "codemirror_mode": {
    "name": "ipython",
    "version": 3
   },
   "file_extension": ".py",
   "mimetype": "text/x-python",
   "name": "python",
   "nbconvert_exporter": "python",
   "pygments_lexer": "ipython3",
   "version": "3.10.6"
  },
  "orig_nbformat": 4
 },
 "nbformat": 4,
 "nbformat_minor": 2
}
