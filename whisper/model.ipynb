{
 "cells": [
  {
   "cell_type": "code",
   "execution_count": 30,
   "metadata": {},
   "outputs": [],
   "source": [
    "import whisper\n",
    "import torch\n",
    "\n",
    "from utils import log_mel_spectrogram, load_audio, pad_or_trim\n",
    "from whisper.decoding import DecodingOptions\n",
    "from model import Whisper\n",
    "from whisper.tokenizer import get_tokenizer\n",
    "\n",
    "\n",
    "model_original = whisper.load_model(\"tiny\")\n",
    "model_original.to(torch.float32)\n",
    "\n",
    "tokenizer = get_tokenizer(model_original.is_multilingual, language='en', task='transcribe')\n",
    "\n",
    "model = Whisper.load_from_pretrained(\"tiny\") "
   ]
  },
  {
   "cell_type": "code",
   "execution_count": 16,
   "metadata": {},
   "outputs": [],
   "source": [
    "mel = log_mel_spectrogram(load_audio('./audio.mp3'))\n",
    "mel_segment = pad_or_trim(mel, 30 * 16000 // 160).unsqueeze(0)\n",
    "model_original.decode(mel_segment, DecodingOptions(fp16=False))[0].text"
   ]
  },
  {
   "cell_type": "code",
   "execution_count": 41,
   "metadata": {},
   "outputs": [
    {
     "data": {
      "text/plain": [
       "'Printing, in the only sense with which we are at present concerned, differs from most if not from all the arts and crafts represented in the exhibition.<|endoftext|><|endoftext|><|endoftext|><|endoftext|><|endoftext|><|endoftext|><|endoftext|><|endoftext|>'"
      ]
     },
     "execution_count": 41,
     "metadata": {},
     "output_type": "execute_result"
    }
   ],
   "source": [
    "original_encoder_logits = model_original.encoder(mel_segment)\n",
    "encoder_logits = model.encoder(mel_segment)\n",
    "\n",
    "assert torch.allclose(original_encoder_logits, encoder_logits)\n",
    "\n",
    "tokens = torch.randint(0, 50000, (1,15))\n",
    "original_decoder_logits = model_original.decoder(tokens, original_encoder_logits)\n",
    "decoder_logits = model.decoder(tokens, encoder_logits)\n",
    "\n",
    "assert torch.allclose(original_decoder_logits, decoder_logits)\n",
    "\n",
    "encoder_logits = model.encoder(mel_segment)\n",
    "tokenizer.decode(model.generate(torch.tensor([tokenizer.sot_sequence], dtype=torch.int64), encoder_logits)[0,4:]).strip()"
   ]
  }
 ],
 "metadata": {
  "kernelspec": {
   "display_name": "Python 3",
   "language": "python",
   "name": "python3"
  },
  "language_info": {
   "codemirror_mode": {
    "name": "ipython",
    "version": 3
   },
   "file_extension": ".py",
   "mimetype": "text/x-python",
   "name": "python",
   "nbconvert_exporter": "python",
   "pygments_lexer": "ipython3",
   "version": "3.10.6"
  },
  "orig_nbformat": 4
 },
 "nbformat": 4,
 "nbformat_minor": 2
}
