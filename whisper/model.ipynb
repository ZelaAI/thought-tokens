{
 "cells": [
  {
   "cell_type": "code",
   "execution_count": 1,
   "metadata": {},
   "outputs": [
    {
     "name": "stderr",
     "output_type": "stream",
     "text": [
      "/Users/alex/.pyenv/versions/3.10.6/lib/python3.10/site-packages/whisper/timing.py:58: NumbaDeprecationWarning: \u001b[1mThe 'nopython' keyword argument was not supplied to the 'numba.jit' decorator. The implicit default value for this argument is currently False, but it will be changed to True in Numba 0.59.0. See https://numba.readthedocs.io/en/stable/reference/deprecation.html#deprecation-of-object-mode-fall-back-behaviour-when-using-jit for details.\u001b[0m\n",
      "  def backtrace(trace: np.ndarray):\n"
     ]
    }
   ],
   "source": [
    "import whisper\n",
    "import torch\n",
    "\n",
    "from utils import log_mel_spectrogram, load_audio, pad_or_trim, N_FRAMES\n",
    "from whisper.decoding import DecodingOptions\n",
    "from model import Whisper\n",
    "from whisper.tokenizer import get_tokenizer\n",
    "\n",
    "\n",
    "model_original = whisper.load_model(\"tiny\")\n",
    "model_original.to(torch.float32)\n",
    "\n",
    "tokenizer = get_tokenizer(model_original.is_multilingual, language='en', task='transcribe')\n",
    "\n",
    "model = Whisper.load_from_pretrained(\"tiny\") "
   ]
  },
  {
   "cell_type": "code",
   "execution_count": 2,
   "metadata": {},
   "outputs": [
    {
     "data": {
      "text/plain": [
       "'Printing, in the only sense with which we are at present concerned, differs from most if not from all the arts and crafts represented in the exhibition.'"
      ]
     },
     "execution_count": 2,
     "metadata": {},
     "output_type": "execute_result"
    }
   ],
   "source": [
    "mel = log_mel_spectrogram(load_audio('./audio.mp3'))\n",
    "mel_segment = pad_or_trim(mel, N_FRAMES).unsqueeze(0)\n",
    "model_original.decode(mel_segment, DecodingOptions(fp16=False))[0].text"
   ]
  },
  {
   "cell_type": "code",
   "execution_count": 3,
   "metadata": {},
   "outputs": [
    {
     "data": {
      "text/plain": [
       "torch.Size([80, 965])"
      ]
     },
     "execution_count": 3,
     "metadata": {},
     "output_type": "execute_result"
    }
   ],
   "source": [
    "mel.shape"
   ]
  },
  {
   "cell_type": "code",
   "execution_count": 4,
   "metadata": {},
   "outputs": [
    {
     "data": {
      "text/plain": [
       "'Printing, in the only sense with which we are at present concerned, differs from most if not from all the arts and crafts represented in the exhibition.<|endoftext|><|endoftext|><|endoftext|><|endoftext|><|endoftext|><|endoftext|><|endoftext|><|endoftext|>'"
      ]
     },
     "execution_count": 4,
     "metadata": {},
     "output_type": "execute_result"
    }
   ],
   "source": [
    "original_encoder_logits = model_original.encoder(mel_segment)\n",
    "encoder_logits = model.encoder(mel_segment)\n",
    "\n",
    "assert torch.allclose(original_encoder_logits, encoder_logits)\n",
    "\n",
    "tokens = torch.randint(0, 50000, (1,15))\n",
    "original_decoder_logits = model_original.decoder(tokens, original_encoder_logits)\n",
    "decoder_logits = model.decoder(tokens, encoder_logits)\n",
    "\n",
    "assert torch.allclose(original_decoder_logits, decoder_logits)\n",
    "\n",
    "encoder_logits = model.encoder(mel_segment)\n",
    "tokenizer.decode(model.generate(torch.tensor([tokenizer.sot_sequence], dtype=torch.int64), encoder_logits)[0,4:]).strip()"
   ]
  },
  {
   "cell_type": "code",
   "execution_count": 5,
   "metadata": {},
   "outputs": [],
   "source": [
    "# Datasets\n",
    "# Layer 1 -> Audio Dataset\n",
    "# Layer 2 -> Mel Spectrogram Dataset"
   ]
  },
  {
   "cell_type": "code",
   "execution_count": 6,
   "metadata": {},
   "outputs": [
    {
     "data": {
      "text/plain": [
       "5"
      ]
     },
     "execution_count": 6,
     "metadata": {},
     "output_type": "execute_result"
    }
   ],
   "source": [
    "from dataset import AudioDatasetFake, SpectrogramDataset, Batch\n",
    "dataset = SpectrogramDataset(AudioDatasetFake())\n",
    "len(list(dataset))"
   ]
  },
  {
   "cell_type": "code",
   "execution_count": 8,
   "metadata": {},
   "outputs": [],
   "source": [
    "from torch.utils.data import DataLoader\n",
    "dataloader = DataLoader(dataset, batch_size=2, num_workers=2, collate_fn=Batch.collate_fn)\n"
   ]
  },
  {
   "cell_type": "code",
   "execution_count": 10,
   "metadata": {},
   "outputs": [
    {
     "name": "stdout",
     "output_type": "stream",
     "text": [
      "Batch(inputs=tensor([[[-0.5596, -0.5596, -0.4869,  ...,  0.0000,  0.0000,  0.0000],\n",
      "         [-0.5596, -0.5596, -0.2426,  ...,  0.0000,  0.0000,  0.0000],\n",
      "         [-0.5596, -0.5387, -0.1150,  ...,  0.0000,  0.0000,  0.0000],\n",
      "         ...,\n",
      "         [-0.5596, -0.5596,  0.0367,  ...,  0.0000,  0.0000,  0.0000],\n",
      "         [-0.5596, -0.5068,  0.2271,  ...,  0.0000,  0.0000,  0.0000],\n",
      "         [-0.5596, -0.5566,  0.0240,  ...,  0.0000,  0.0000,  0.0000]],\n",
      "\n",
      "        [[-0.5596, -0.5596, -0.4869,  ...,  0.0000,  0.0000,  0.0000],\n",
      "         [-0.5596, -0.5596, -0.2426,  ...,  0.0000,  0.0000,  0.0000],\n",
      "         [-0.5596, -0.5387, -0.1150,  ...,  0.0000,  0.0000,  0.0000],\n",
      "         ...,\n",
      "         [-0.5596, -0.5596,  0.0367,  ...,  0.0000,  0.0000,  0.0000],\n",
      "         [-0.5596, -0.5068,  0.2271,  ...,  0.0000,  0.0000,  0.0000],\n",
      "         [-0.5596, -0.5566,  0.0240,  ...,  0.0000,  0.0000,  0.0000]]]), ids=[0, 2], max_dense_tokens=16)\n",
      "Batch(inputs=tensor([[[-0.5596, -0.5596, -0.4869,  ...,  0.0000,  0.0000,  0.0000],\n",
      "         [-0.5596, -0.5596, -0.2426,  ...,  0.0000,  0.0000,  0.0000],\n",
      "         [-0.5596, -0.5387, -0.1150,  ...,  0.0000,  0.0000,  0.0000],\n",
      "         ...,\n",
      "         [-0.5596, -0.5596,  0.0367,  ...,  0.0000,  0.0000,  0.0000],\n",
      "         [-0.5596, -0.5068,  0.2271,  ...,  0.0000,  0.0000,  0.0000],\n",
      "         [-0.5596, -0.5566,  0.0240,  ...,  0.0000,  0.0000,  0.0000]],\n",
      "\n",
      "        [[-0.5596, -0.5596, -0.4869,  ...,  0.0000,  0.0000,  0.0000],\n",
      "         [-0.5596, -0.5596, -0.2426,  ...,  0.0000,  0.0000,  0.0000],\n",
      "         [-0.5596, -0.5387, -0.1150,  ...,  0.0000,  0.0000,  0.0000],\n",
      "         ...,\n",
      "         [-0.5596, -0.5596,  0.0367,  ...,  0.0000,  0.0000,  0.0000],\n",
      "         [-0.5596, -0.5068,  0.2271,  ...,  0.0000,  0.0000,  0.0000],\n",
      "         [-0.5596, -0.5566,  0.0240,  ...,  0.0000,  0.0000,  0.0000]]]), ids=[1, 3], max_dense_tokens=16)\n",
      "Batch(inputs=tensor([[[-0.5596, -0.5596, -0.4869,  ...,  0.0000,  0.0000,  0.0000],\n",
      "         [-0.5596, -0.5596, -0.2426,  ...,  0.0000,  0.0000,  0.0000],\n",
      "         [-0.5596, -0.5387, -0.1150,  ...,  0.0000,  0.0000,  0.0000],\n",
      "         ...,\n",
      "         [-0.5596, -0.5596,  0.0367,  ...,  0.0000,  0.0000,  0.0000],\n",
      "         [-0.5596, -0.5068,  0.2271,  ...,  0.0000,  0.0000,  0.0000],\n",
      "         [-0.5596, -0.5566,  0.0240,  ...,  0.0000,  0.0000,  0.0000]]]), ids=[4], max_dense_tokens=16)\n"
     ]
    }
   ],
   "source": [
    "for i in dataloader:\n",
    "    print(i)"
   ]
  }
 ],
 "metadata": {
  "kernelspec": {
   "display_name": "Python 3",
   "language": "python",
   "name": "python3"
  },
  "language_info": {
   "codemirror_mode": {
    "name": "ipython",
    "version": 3
   },
   "file_extension": ".py",
   "mimetype": "text/x-python",
   "name": "python",
   "nbconvert_exporter": "python",
   "pygments_lexer": "ipython3",
   "version": "3.10.6"
  },
  "orig_nbformat": 4
 },
 "nbformat": 4,
 "nbformat_minor": 2
}
