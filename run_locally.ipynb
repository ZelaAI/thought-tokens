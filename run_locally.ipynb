{
 "cells": [
  {
   "cell_type": "code",
   "execution_count": 1,
   "metadata": {},
   "outputs": [],
   "source": [
    "import torch\n",
    "from core.model import GPT, GPTConfig\n",
    "from core.tokenizer import Tokenizer, AudioTokenizer\n",
    "from huggingface_hub import hf_hub_download\n",
    "import numpy as np"
   ]
  },
  {
   "cell_type": "code",
   "execution_count": 2,
   "metadata": {},
   "outputs": [
    {
     "name": "stdout",
     "output_type": "stream",
     "text": [
      "number of parameters: 409.55M\n",
      "Loading Audio Encoder\n"
     ]
    },
    {
     "name": "stderr",
     "output_type": "stream",
     "text": [
      "Could not find image processor class in the image processor config or the model config. Loading based on pattern matching with the model's feature extractor configuration.\n"
     ]
    },
    {
     "name": "stdout",
     "output_type": "stream",
     "text": [
      "Loaded Audio Encoder, size: 1029\n"
     ]
    }
   ],
   "source": [
    "model_config = GPTConfig.from_pretrained('EleutherAI/pythia-410m')\n",
    "model = GPT(model_config)\n",
    "tokenizer = Tokenizer()\n",
    "audio_tokenizer = AudioTokenizer()"
   ]
  },
  {
   "cell_type": "code",
   "execution_count": 3,
   "metadata": {},
   "outputs": [
    {
     "data": {
      "text/plain": [
       "<All keys matched successfully>"
      ]
     },
     "execution_count": 3,
     "metadata": {},
     "output_type": "execute_result"
    }
   ],
   "source": [
    "# Step 1, load the model\n",
    "\n",
    "model_name = 'alexedw/audio-clean-100-run-2'\n",
    "model_checkpoint = '750'\n",
    "\n",
    "state_dict = torch.load(hf_hub_download(model_name, \"model_state.pt\", revision=model_checkpoint), map_location='cpu')\n",
    "new_state_dict = {key.replace(\"_orig_mod.\", \"\"): value for key, value in state_dict.items()}\n",
    "\n",
    "model.load_state_dict(new_state_dict)"
   ]
  },
  {
   "cell_type": "code",
   "execution_count": 4,
   "metadata": {},
   "outputs": [],
   "source": [
    "# prepare tokens\n",
    "input_text = 'my name is alexander and I am so great'\n",
    "tokenized_text = tokenizer.encode(input_text)\n",
    "\n",
    "full_text_tokens = np.concatenate([np.array([tokenizer.start_text_id]), tokenized_text, np.array([tokenizer.end_text_id])])\n",
    "full_audio_tokens = np.concatenate([np.array([audio_tokenizer.start_text_id]), np.array([audio_tokenizer.text_id] * len(tokenized_text)), np.array([audio_tokenizer.end_text_id])])\n",
    "\n",
    "full_text_tokens = torch.tensor(full_text_tokens).unsqueeze(0)\n",
    "full_audio_tokens_1 = torch.tensor(full_audio_tokens).unsqueeze(0)\n",
    "full_audio_tokens_2 = torch.tensor(full_audio_tokens).unsqueeze(0)"
   ]
  },
  {
   "cell_type": "code",
   "execution_count": 5,
   "metadata": {},
   "outputs": [
    {
     "name": "stdout",
     "output_type": "stream",
     "text": [
      "huggingface/tokenizers: The current process just got forked, after parallelism has already been used. Disabling parallelism to avoid deadlocks...\n",
      "To disable this warning, you can either:\n",
      "\t- Avoid using `tokenizers` before the fork if possible\n",
      "\t- Explicitly set the environment variable TOKENIZERS_PARALLELISM=(true | false)\n"
     ]
    },
    {
     "name": "stderr",
     "output_type": "stream",
     "text": [
      " 10%|▉         | 48/500 [00:20<03:40,  2.05it/s]"
     ]
    }
   ],
   "source": [
    "# run generation\n",
    "output_text, output_audio_1, output_audio_2 = model.generate(full_text_tokens, full_audio_tokens_1, full_audio_tokens_2, 500)\n"
   ]
  }
 ],
 "metadata": {
  "kernelspec": {
   "display_name": "Python 3",
   "language": "python",
   "name": "python3"
  },
  "language_info": {
   "codemirror_mode": {
    "name": "ipython",
    "version": 3
   },
   "file_extension": ".py",
   "mimetype": "text/x-python",
   "name": "python",
   "nbconvert_exporter": "python",
   "pygments_lexer": "ipython3",
   "version": "3.10.6"
  },
  "orig_nbformat": 4
 },
 "nbformat": 4,
 "nbformat_minor": 2
}
